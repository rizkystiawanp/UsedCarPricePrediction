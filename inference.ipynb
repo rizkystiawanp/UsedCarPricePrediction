{
 "cells": [
  {
   "cell_type": "code",
   "execution_count": 18,
   "metadata": {},
   "outputs": [
    {
     "name": "stdout",
     "output_type": "stream",
     "text": [
      "🔮 Hasil Prediksi Harga Mobil: 11550.43\n"
     ]
    }
   ],
   "source": [
    "import pandas as pd\n",
    "import joblib\n",
    "\n",
    "# ================================\n",
    "# 1. Load pipeline dan fitur terpilih\n",
    "# ================================\n",
    "model_path = 'final_model_pipeline.pkl'\n",
    "features_path = 'selected_features.pkl'\n",
    "\n",
    "pipeline = joblib.load(model_path)\n",
    "top_features = joblib.load(features_path)\n",
    "\n",
    "# ================================\n",
    "# 2. Siapkan data baru untuk prediksi\n",
    "# (Data ini hanya contoh, sesuaikan dengan top_features kamu)\n",
    "# ================================\n",
    "data = {\n",
    "    'enginesize': [140],\n",
    "    'curbweight': [2800],\n",
    "    'horsepower': [120],\n",
    "    'carwidth': [65.0],\n",
    "    'highwaympg': [30],\n",
    "    'citympg': [25],\n",
    "    'carlength': [170.0],\n",
    "    'cylindernumber': ['two'],\n",
    "    'fuelsystem': ['mpfi'],\n",
    "    'drivewheel': ['fwd'],\n",
    "    'aspiration': ['std'],\n",
    "    'carbody': ['sedan'],\n",
    "    \n",
    "}\n",
    "\n",
    "X_new = pd.DataFrame(data)\n",
    "\n",
    "# ================================\n",
    "# 3. Langsung prediksi\n",
    "# ================================\n",
    "y_pred = pipeline.predict(X_new)\n",
    "print(\"🔮 Hasil Prediksi Harga Mobil:\", round(y_pred[0], 2))"
   ]
  }
 ],
 "metadata": {
  "kernelspec": {
   "display_name": "base",
   "language": "python",
   "name": "python3"
  },
  "language_info": {
   "codemirror_mode": {
    "name": "ipython",
    "version": 3
   },
   "file_extension": ".py",
   "mimetype": "text/x-python",
   "name": "python",
   "nbconvert_exporter": "python",
   "pygments_lexer": "ipython3",
   "version": "3.9.19"
  }
 },
 "nbformat": 4,
 "nbformat_minor": 2
}
