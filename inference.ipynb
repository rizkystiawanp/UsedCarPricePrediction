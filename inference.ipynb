{
 "cells": [
  {
   "cell_type": "code",
   "execution_count": 1,
   "metadata": {},
   "outputs": [],
   "source": [
    "import pandas as pd\n",
    "import numpy as np\n",
    "import matplotlib.pyplot as plt\n",
    "import seaborn as sns\n",
    "\n",
    "from sklearn.pipeline import Pipeline\n",
    "import joblib"
   ]
  },
  {
   "cell_type": "code",
   "execution_count": 2,
   "metadata": {},
   "outputs": [
    {
     "name": "stdout",
     "output_type": "stream",
     "text": [
      "Predicted Value: [18829.46]\n"
     ]
    }
   ],
   "source": [
    "# Load pipeline dan model\n",
    "loaded_pipeline = joblib.load('final_model_pipeline.pkl')\n",
    "\n",
    "# Pastikan data inference sesuai format yang diharapkan\n",
    "X_inference = pd.DataFrame({\n",
    "    'fueltype': ['Gas'], \n",
    "    'aspiration': ['Std'],\n",
    "    'doornumber': ['Four'], \n",
    "    'carbody': ['Sedan'], \n",
    "    'drivewheel': ['Fwd'], \n",
    "    'enginelocation': ['Front'], \n",
    "    'enginetype': ['Ohc'], \n",
    "    'cylindernumber': ['Four'], \n",
    "    'fuelsystem': ['Mpfi'], \n",
    "    'wheelbase': [99.2], \n",
    "    'carlength': [178.5], \n",
    "    'carwidth': [67.9], \n",
    "    'carheight': [49.7], \n",
    "    'curbweight': [3139], \n",
    "    'enginesize': [181], \n",
    "    'boreratio': [3.43], \n",
    "    'stroke': [3.27], \n",
    "    'compressionratio': [9.0], \n",
    "    'horsepower': [160], \n",
    "    'peakrpm': [5200], \n",
    "    'citympg': [19], \n",
    "    'highwaympg': [25]\n",
    "})\n",
    "\n",
    "# Prediksi\n",
    "y_pred = loaded_pipeline.predict(X_inference)\n",
    "print(\"Predicted Value:\", y_pred)\n"
   ]
  },
  {
   "cell_type": "code",
   "execution_count": 3,
   "metadata": {},
   "outputs": [
    {
     "name": "stdout",
     "output_type": "stream",
     "text": [
      "Predicted Value: [14641.31416667]\n"
     ]
    }
   ],
   "source": [
    "# Load pipeline dan model\n",
    "loaded_pipeline = joblib.load('final_model_pipeline.pkl')\n",
    "\n",
    "# Pastikan data inference sesuai format yang diharapkan\n",
    "X_inference = pd.DataFrame({\n",
    "    'fueltype': ['gas'], \n",
    "    'aspiration': ['std'],\n",
    "    'doornumber': ['two'], \n",
    "    'carbody': ['convertible'], \n",
    "    'drivewheel': ['rwd'], \n",
    "    'enginelocation': ['front'], \n",
    "    'enginetype': ['dohc'], \n",
    "    'cylindernumber': ['four'], \n",
    "    'fuelsystem': ['Mpfi'], \n",
    "    'wheelbase': [88.6], \n",
    "    'carlength': [168.8], \n",
    "    'carwidth': [64.1], \n",
    "    'carheight': [48.8], \n",
    "    'curbweight': [2548], \n",
    "    'enginesize': [130], \n",
    "    'boreratio': [3.47], \n",
    "    'stroke': [2.68], \n",
    "    'compressionratio': [9], \n",
    "    'horsepower': [111], \n",
    "    'peakrpm': [5000], \n",
    "    'citympg': [21], \n",
    "    'highwaympg': [27]\n",
    "})\n",
    "\n",
    "# Prediksi\n",
    "y_pred = loaded_pipeline.predict(X_inference)\n",
    "print(\"Predicted Value:\", y_pred)\n"
   ]
  }
 ],
 "metadata": {
  "kernelspec": {
   "display_name": "base",
   "language": "python",
   "name": "python3"
  },
  "language_info": {
   "codemirror_mode": {
    "name": "ipython",
    "version": 3
   },
   "file_extension": ".py",
   "mimetype": "text/x-python",
   "name": "python",
   "nbconvert_exporter": "python",
   "pygments_lexer": "ipython3",
   "version": "3.9.19"
  }
 },
 "nbformat": 4,
 "nbformat_minor": 2
}
